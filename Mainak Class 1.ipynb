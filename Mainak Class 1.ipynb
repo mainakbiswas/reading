{
 "cells": [
  {
   "cell_type": "code",
   "execution_count": 247,
   "id": "2051a5e1-c6f6-4337-8b9f-7d51d4b9e902",
   "metadata": {},
   "outputs": [],
   "source": [
    "import torch"
   ]
  },
  {
   "cell_type": "code",
   "execution_count": 2,
   "id": "990ecd83-f9ee-41ac-b9db-d7264f12954f",
   "metadata": {},
   "outputs": [],
   "source": [
    "features = torch.randn((1, 5))"
   ]
  },
  {
   "cell_type": "code",
   "execution_count": 4,
   "id": "886ee6d3-0d71-4027-b509-daa760b583a8",
   "metadata": {},
   "outputs": [],
   "source": [
    "# Some operations"
   ]
  },
  {
   "cell_type": "code",
   "execution_count": 5,
   "id": "a9432067-06a2-46b9-9653-aad69592d652",
   "metadata": {},
   "outputs": [
    {
     "data": {
      "text/plain": [
       "torch.Size([1, 5])"
      ]
     },
     "execution_count": 5,
     "metadata": {},
     "output_type": "execute_result"
    }
   ],
   "source": [
    "features.shape"
   ]
  },
  {
   "cell_type": "code",
   "execution_count": null,
   "id": "a4d51983-8ca7-42ed-b2ec-69d3dcc228cd",
   "metadata": {},
   "outputs": [],
   "source": [
    "b = features / features"
   ]
  },
  {
   "cell_type": "code",
   "execution_count": null,
   "id": "78dba6b8-85e3-462f-80a4-a598d9cbe38f",
   "metadata": {},
   "outputs": [],
   "source": [
    "b"
   ]
  },
  {
   "cell_type": "code",
   "execution_count": null,
   "id": "2d8127bc-383d-4e86-8088-887d3e5a16c3",
   "metadata": {},
   "outputs": [],
   "source": [
    "b.shape"
   ]
  },
  {
   "cell_type": "code",
   "execution_count": 28,
   "id": "c38d4c41-9caf-4819-a5ed-2645b11017ed",
   "metadata": {},
   "outputs": [],
   "source": [
    "features = torch.randn((1, 5))"
   ]
  },
  {
   "cell_type": "code",
   "execution_count": 29,
   "id": "edc038cf-ebf9-44ae-9574-a33e4521f0fb",
   "metadata": {},
   "outputs": [],
   "source": [
    "weights= torch.randn((1, 5))"
   ]
  },
  {
   "cell_type": "code",
   "execution_count": 30,
   "id": "525da41f-2d21-47ec-a0fc-4f89f235b519",
   "metadata": {},
   "outputs": [
    {
     "data": {
      "text/plain": [
       "tensor([[ 0.4125,  0.0225,  0.8717,  0.0930, -0.2039]])"
      ]
     },
     "execution_count": 30,
     "metadata": {},
     "output_type": "execute_result"
    }
   ],
   "source": [
    "features"
   ]
  },
  {
   "cell_type": "code",
   "execution_count": 31,
   "id": "b30e7eb8-3964-4752-834f-9c9d89438bcb",
   "metadata": {},
   "outputs": [
    {
     "data": {
      "text/plain": [
       "tensor([[-1.1272, -0.2485,  0.4435,  1.6416, -0.0508]])"
      ]
     },
     "execution_count": 31,
     "metadata": {},
     "output_type": "execute_result"
    }
   ],
   "source": [
    "weights"
   ]
  },
  {
   "cell_type": "code",
   "execution_count": 32,
   "id": "1a98c264-ab0d-42ee-adef-b7b1936efb6b",
   "metadata": {},
   "outputs": [
    {
     "data": {
      "text/plain": [
       "tensor([[-0.4649, -0.0056,  0.3865,  0.1527,  0.0104]])"
      ]
     },
     "execution_count": 32,
     "metadata": {},
     "output_type": "execute_result"
    }
   ],
   "source": [
    "features * weights"
   ]
  },
  {
   "cell_type": "code",
   "execution_count": 36,
   "id": "a7c3e5da-1122-4437-8190-45314951b67a",
   "metadata": {},
   "outputs": [
    {
     "data": {
      "text/plain": [
       "torch.Size([1, 1])"
      ]
     },
     "execution_count": 36,
     "metadata": {},
     "output_type": "execute_result"
    }
   ],
   "source": [
    "torch.mm(features, weights.view(5, 1)).shape"
   ]
  },
  {
   "cell_type": "code",
   "execution_count": 29,
   "id": "0835506b-0205-4d52-a0e3-6448274f8ccb",
   "metadata": {},
   "outputs": [],
   "source": [
    "#more examples"
   ]
  },
  {
   "cell_type": "code",
   "execution_count": 38,
   "id": "7117fe0c-6a57-47d9-8973-d1270dbaef58",
   "metadata": {},
   "outputs": [],
   "source": [
    "# Features are 2 random normal variables\n",
    "features = torch.randn((1, 2)) #Initialize from a normal distribution\n",
    "# True weights for our data, random normal variables again\n",
    "weights = torch.randn_like(features)\n",
    "# and a true bias term\n",
    "bias = torch.randn((1, 1))"
   ]
  },
  {
   "cell_type": "code",
   "execution_count": 32,
   "id": "ffba5872-71c8-458f-98f8-01e40ea38cb2",
   "metadata": {},
   "outputs": [],
   "source": [
    "#introduce single neuron - Describe what activation functions are\n",
    "\n",
    "def activation(x):\n",
    "    \"\"\" Sigmoid activation function \n",
    "    \n",
    "        Arguments\n",
    "        ---------\n",
    "        x: torch.Tensor\n",
    "    \"\"\"\n",
    "    return 1/(1+torch.exp(-x))"
   ]
  },
  {
   "cell_type": "code",
   "execution_count": 37,
   "id": "2ef017cd-a881-4026-9409-6cb03249fac9",
   "metadata": {},
   "outputs": [
    {
     "data": {
      "text/plain": [
       "(tensor([[-1.2989, -0.6097]]),\n",
       " tensor([[-0.9822,  0.3475]]),\n",
       " tensor([[1.0326]]),\n",
       " tensor([[0.8906]]))"
      ]
     },
     "execution_count": 37,
     "metadata": {},
     "output_type": "execute_result"
    }
   ],
   "source": [
    "y = activation(torch.mm(features, weights.view(2,1)) + bias)\n",
    "features, weights, bias, y"
   ]
  },
  {
   "cell_type": "code",
   "execution_count": null,
   "id": "876afc3b-2331-4ce1-8ce2-79a4436e5a70",
   "metadata": {},
   "outputs": [],
   "source": [
    "# Stack em up. Features are 3 random normal variables\n",
    "features = torch.randn((1, 3))\n",
    "\n",
    "# Define the size of each layer in our network\n",
    "n_input = features.shape[1]     # Number of input units, must match number of input features\n",
    "n_hidden = 2                    # Number of hidden units \n",
    "n_output = 1                    # Number of output units\n",
    "\n",
    "# Weights for inputs to hidden layer\n",
    "W1 = torch.randn((n_input, n_hidden))\n",
    "# Weights for hidden layer to output layer\n",
    "W2 = torch.randn((n_hidden, n_output))\n",
    "\n",
    "# and bias terms for hidden and output layers\n",
    "B1 = torch.randn((1, n_hidden))\n",
    "B2 = torch.randn((1, n_output))"
   ]
  },
  {
   "cell_type": "code",
   "execution_count": null,
   "id": "238ce3aa-537e-4b29-922a-de054354b758",
   "metadata": {},
   "outputs": [],
   "source": [
    "h = activation(torch.mm(features, W1) + B1)\n",
    "output = activation(torch.mm(h, W2) + B2)\n",
    "print(output)"
   ]
  },
  {
   "cell_type": "code",
   "execution_count": 248,
   "id": "2157a6fc-a66a-4918-af8e-688a2cb1f375",
   "metadata": {},
   "outputs": [],
   "source": [
    "%matplotlib inline\n",
    "%config InlineBackend.figure_format = 'retina'\n",
    "\n",
    "import numpy as np\n",
    "import torch\n",
    "\n",
    "import matplotlib.pyplot as plt\n",
    "\n",
    "def view_classify(img, ps, version=\"MNIST\"):\n",
    "    ''' Function for viewing an image and it's predicted classes.\n",
    "    '''\n",
    "    ps = ps.data.numpy().squeeze()\n",
    "\n",
    "    fig, (ax1, ax2) = plt.subplots(figsize=(6,9), ncols=2)\n",
    "    ax1.imshow(img.resize_(1, 28, 28).numpy().squeeze(), cmap='Greys_r')\n",
    "    ax1.axis('off')\n",
    "    ax2.barh(np.arange(10), ps)\n",
    "    ax2.set_aspect(0.1)\n",
    "    ax2.set_yticks(np.arange(10))\n",
    "    ax2.set_yticklabels(np.arange(10))\n",
    "    ax2.set_title('Class Probability')\n",
    "    ax2.set_xlim(0, 1.1)\n",
    "\n",
    "    plt.tight_layout()"
   ]
  },
  {
   "cell_type": "code",
   "execution_count": 40,
   "id": "bf3f3104-081f-47bf-8fec-483fe3282691",
   "metadata": {},
   "outputs": [],
   "source": [
    "from six.moves import urllib\n",
    "opener = urllib.request.build_opener()\n",
    "opener.addheaders = [('User-agent', 'Mozilla/5.0')]\n",
    "urllib.request.install_opener(opener)"
   ]
  },
  {
   "cell_type": "code",
   "execution_count": 249,
   "id": "59f50730-f08f-445b-b982-252762f46052",
   "metadata": {},
   "outputs": [],
   "source": [
    "from torchvision import datasets, transforms\n",
    "\n",
    "# Define a transform to normalize the data\n",
    "transform = transforms.Compose([transforms.ToTensor(),\n",
    "                              ])\n",
    "# Download and load the training data \n",
    "# Explain a bit about Data loaders - https://pytorch.org/tutorials/beginner/basics/data_tutorial.html\n",
    "# Explain the concept of batch sizes\n",
    "trainset = datasets.MNIST('~/.pytorch/MNIST_data/', download=True, train=True, transform=transform)\n",
    "trainloader = torch.utils.data.DataLoader(trainset, batch_size=64, shuffle=True)"
   ]
  },
  {
   "cell_type": "code",
   "execution_count": 79,
   "id": "2e2f0206-b2c3-40de-901d-e6240b612fe5",
   "metadata": {},
   "outputs": [
    {
     "name": "stdout",
     "output_type": "stream",
     "text": [
      "<class 'torch.Tensor'>\n",
      "torch.Size([64, 1, 28, 28])\n",
      "torch.Size([64])\n"
     ]
    }
   ],
   "source": [
    "# Explain batches,  parallelism, GPU\n",
    "dataiter = iter(trainloader)\n",
    "images, labels = next(dataiter)\n",
    "print(type(images))\n",
    "print(images.shape)\n",
    "print(labels.shape)"
   ]
  },
  {
   "cell_type": "code",
   "execution_count": 80,
   "id": "272bb1e5-a098-4e9b-a381-c6703a78e38c",
   "metadata": {},
   "outputs": [
    {
     "data": {
      "image/png": "[encoded data removed]",
      "text/plain": [
       "<Figure size 640x480 with 1 Axes>"
      ]
     },
     "metadata": {
      "image/png": {
       "height": 413,
       "width": 417
      }
     },
     "output_type": "display_data"
    }
   ],
   "source": [
    "plt.imshow(images[7].squeeze(), cmap='Greys_r');"
   ]
  },
  {
   "cell_type": "code",
   "execution_count": 81,
   "id": "01476ac7-ca81-4056-aa4c-6b1ff16f2ad5",
   "metadata": {},
   "outputs": [
    {
     "data": {
      "text/plain": [
       "tensor(7)"
      ]
     },
     "execution_count": 81,
     "metadata": {},
     "output_type": "execute_result"
    }
   ],
   "source": [
    "labels[7]"
   ]
  },
  {
   "cell_type": "code",
   "execution_count": 82,
   "id": "e6ac706c-7828-426a-a07f-086cc10e6d93",
   "metadata": {},
   "outputs": [],
   "source": [
    "def activation(x):\n",
    "    return 1/(1+torch.exp(-x))\n",
    "\n",
    "# Flatten the input images\n",
    "inputs = images.view(images.shape[0], -1)\n",
    "\n",
    "# Create parameters\n",
    "w1 = torch.randn(inputs.shape[1], 256)\n",
    "b1 = torch.randn(256)\n",
    "\n",
    "w2 = torch.randn(256, 10)\n",
    "b2 = torch.randn(10)\n",
    "\n",
    "h = activation(torch.mm(inputs, w1) + b1)\n",
    "\n",
    "out = activation(torch.mm(h, w2) + b2)"
   ]
  },
  {
   "cell_type": "code",
   "execution_count": 83,
   "id": "602beb08-7d29-4d26-b16c-31d10ec7ef7d",
   "metadata": {},
   "outputs": [
    {
     "data": {
      "text/plain": [
       "tensor([5.2456e-01, 9.9937e-01, 9.9987e-01, 8.6864e-01, 9.2794e-01, 9.9496e-01,\n",
       "        3.7535e-05, 9.9974e-01, 1.0000e+00, 8.9771e-01])"
      ]
     },
     "execution_count": 83,
     "metadata": {},
     "output_type": "execute_result"
    }
   ],
   "source": [
    "out.shape\n",
    "out[0]"
   ]
  },
  {
   "cell_type": "code",
   "execution_count": 162,
   "id": "86190b14-947e-4c68-8a84-b9c57a6356f5",
   "metadata": {},
   "outputs": [],
   "source": [
    "from torch import nn"
   ]
  },
  {
   "cell_type": "code",
   "execution_count": 160,
   "id": "0186e648-5b8d-432f-a399-9c39976c692b",
   "metadata": {},
   "outputs": [],
   "source": [
    "class NetworkFromMatrix(nn.Module):\n",
    "    def __init__(self):\n",
    "        super().__init__()\n",
    "        \n",
    "        # Inputs to hidden layer linear transformation\n",
    "        self.hidden = nn.Linear(784, 256)\n",
    "        # Output layer, 10 units - one for each digit\n",
    "        self.output = nn.Linear(256, 10)\n",
    "        \n",
    "        # Define sigmoid activation and softmax output \n",
    "        self.sigmoid = nn.Sigmoid()\n",
    "        \n",
    "    def forward(self, x):\n",
    "        # Pass the input tensor through each of our operations\n",
    "        x = self.hidden(x)\n",
    "        x = self.sigmoid(x)\n",
    "        x = self.output(x)\n",
    "        x = self.sigmoid(x) \n",
    "        \n",
    "        return x"
   ]
  },
  {
   "cell_type": "code",
   "execution_count": null,
   "id": "e6c0aac3-99ff-44fd-b02f-2959d162e04c",
   "metadata": {},
   "outputs": [],
   "source": []
  },
  {
   "cell_type": "code",
   "execution_count": 108,
   "id": "9ecf1769-a6a4-4f2e-a9ec-1c8a44ac121b",
   "metadata": {},
   "outputs": [],
   "source": [
    "# Let us talk softmax\n",
    "def softmax(x):\n",
    "    return torch.exp(x)/torch.sum(torch.exp(x), dim=1).view(-1, 1)"
   ]
  },
  {
   "cell_type": "code",
   "execution_count": 109,
   "id": "6c5043c0-8e58-4409-a10f-af2a9fc4b719",
   "metadata": {},
   "outputs": [
    {
     "name": "stdout",
     "output_type": "stream",
     "text": [
      "torch.Size([5, 10])\n",
      "tensor([ 0.6434, -1.3491, -0.7602,  1.4016, -0.1486, -0.3681, -1.1560,  0.4668,\n",
      "         0.5816, -0.0066])\n"
     ]
    }
   ],
   "source": [
    "logits = torch.randn(5, 10)\n",
    "print(logits.shape)\n",
    "print(logits[0])"
   ]
  },
  {
   "cell_type": "code",
   "execution_count": 111,
   "id": "610bc8e5-8306-4c66-a176-e2f62ba024e8",
   "metadata": {},
   "outputs": [
    {
     "name": "stdout",
     "output_type": "stream",
     "text": [
      "torch.Size([5, 10])\n",
      "tensor([0.1471, 0.0201, 0.0361, 0.3139, 0.0666, 0.0535, 0.0243, 0.1233, 0.1383,\n",
      "        0.0768])\n",
      "tensor(1.0000)\n"
     ]
    }
   ],
   "source": [
    "prob_logits = softmax(logits)\n",
    "print(prob_logits.shape)\n",
    "print(prob_logits[0])\n",
    "print(torch.sum(prob_logits[0]))"
   ]
  },
  {
   "cell_type": "code",
   "execution_count": 185,
   "id": "cc850869-f6dd-4d9e-a65d-117930edd549",
   "metadata": {},
   "outputs": [
    {
     "data": {
      "text/plain": [
       "Network(\n",
       "  (fc1): Linear(in_features=784, out_features=128, bias=True)\n",
       "  (fc2): Linear(in_features=128, out_features=64, bias=True)\n",
       "  (fc3): Linear(in_features=64, out_features=10, bias=True)\n",
       ")"
      ]
     },
     "execution_count": 185,
     "metadata": {},
     "output_type": "execute_result"
    }
   ],
   "source": [
    "# Intorduce nn.functional, relu and softmax activation\n",
    "import torch.nn.functional as F\n",
    "class Network(nn.Module):\n",
    "    def __init__(self):\n",
    "        super().__init__()\n",
    "        # Defining the layers, 128, 64, 10 units each\n",
    "        self.fc1 = nn.Linear(784, 128)\n",
    "        self.fc2 = nn.Linear(128, 64)\n",
    "        # Output layer, 10 units - one for each digit\n",
    "        self.fc3 = nn.Linear(64, 10)\n",
    "        \n",
    "    def forward(self, x):\n",
    "        ''' Forward pass through the network, returns the output logits '''\n",
    "        \n",
    "        x = self.fc1(x)\n",
    "        x = F.relu(x)\n",
    "        x = self.fc2(x)\n",
    "        x = F.relu(x)\n",
    "        x = self.fc3(x)\n",
    "        x = F.softmax(x, dim=1)\n",
    "        \n",
    "        return x\n",
    "\n",
    "model = Network()\n",
    "model"
   ]
  },
  {
   "cell_type": "code",
   "execution_count": 186,
   "id": "152dc628-3e18-4c91-83d1-c22ef4340ded",
   "metadata": {},
   "outputs": [
    {
     "name": "stdout",
     "output_type": "stream",
     "text": [
      "torch.Size([128, 784])\n",
      "torch.Size([128])\n"
     ]
    }
   ],
   "source": [
    "print(model.fc1.weight.shape)\n",
    "print(model.fc1.bias.shape)"
   ]
  },
  {
   "cell_type": "code",
   "execution_count": 189,
   "id": "112848ba-c6cc-4b2a-969b-6ddaefae330e",
   "metadata": {},
   "outputs": [
    {
     "data": {
      "image/png": "[encoded data removed]",
      "text/plain": [
       "<Figure size 600x900 with 2 Axes>"
      ]
     },
     "metadata": {
      "image/png": {
       "height": 327,
       "width": 589
      }
     },
     "output_type": "display_data"
    }
   ],
   "source": [
    "# Grab some data \n",
    "dataiter = iter(trainloader)\n",
    "images, labels = next(dataiter)\n",
    "\n",
    "# Resize images into a 1D vector, new shape is (batch size, color channels, image pixels) \n",
    "images.resize_(64, 1, 784)\n",
    "# or images.resize_(images.shape[0], 1, 784) to automatically get batch size\n",
    "\n",
    "# Forward pass through the network\n",
    "img_idx = 0\n",
    "ps = model.forward(images[img_idx,:])\n",
    "\n",
    "img = images[img_idx]\n",
    "view_classify(img.view(1, 28, 28), ps)"
   ]
  },
  {
   "cell_type": "code",
   "execution_count": 159,
   "id": "4fa30c25-50ed-450e-84a6-a9affe028748",
   "metadata": {},
   "outputs": [],
   "source": [
    "# Revisit the network code once more, and get back to PPT for a discussion of Loss functions and Gradients"
   ]
  },
  {
   "cell_type": "markdown",
   "id": "27586213-0649-410b-ab25-a32ad23c75df",
   "metadata": {},
   "source": []
  },
  {
   "cell_type": "code",
   "execution_count": 164,
   "id": "8e52591e-c3d5-4a3a-9e80-8491fbbcd9bd",
   "metadata": {},
   "outputs": [],
   "source": [
    "# Change to log softmax for more numerical stability\n",
    "class Network(nn.Module):\n",
    "    def __init__(self):\n",
    "        super().__init__()\n",
    "        # Defining the layers, 128, 64, 10 units each\n",
    "        self.fc1 = nn.Linear(784, 128)\n",
    "        self.fc2 = nn.Linear(128, 64)\n",
    "        # Output layer, 10 units - one for each digit\n",
    "        self.fc3 = nn.Linear(64, 10)\n",
    "        \n",
    "    def forward(self, x):\n",
    "        ''' Forward pass through the network, returns the output logits '''\n",
    "        \n",
    "        x = self.fc1(x)\n",
    "        x = F.relu(x)\n",
    "        x = self.fc2(x)\n",
    "        x = F.relu(x)\n",
    "        x = self.fc3(x)\n",
    "        x = F.log_softmax(x, dim=1)\n",
    "        \n",
    "        return x\n",
    "\n",
    "model = Network()\n"
   ]
  },
  {
   "cell_type": "code",
   "execution_count": 175,
   "id": "c36a2dc4-95c4-4046-9ff7-09a535cc7b0b",
   "metadata": {},
   "outputs": [
    {
     "name": "stdout",
     "output_type": "stream",
     "text": [
      "tensor(0.2270, grad_fn=<MeanBackward0>)\n"
     ]
    }
   ],
   "source": [
    "# Define the loss\n",
    "criterion = lambda x, y: torch.mean(-x[range(len(y)), y])\n",
    "\n",
    "# Get our data\n",
    "images, labels = next(iter(trainloader))\n",
    "# Flatten images\n",
    "images = images.view(images.shape[0], -1)\n",
    "\n",
    "# Forward pass, get our log-probabilities\n",
    "logps = model(images)\n",
    "# Calculate the loss with the logps and the labels\n",
    "loss = criterion(logps, labels)\n",
    "\n",
    "print(loss)"
   ]
  },
  {
   "cell_type": "code",
   "execution_count": 143,
   "id": "8e39902d-5a05-4c12-9613-520d5eceb1df",
   "metadata": {},
   "outputs": [
    {
     "name": "stdout",
     "output_type": "stream",
     "text": [
      "tensor([[-0.3537]], requires_grad=True) tensor([[1.0843]], requires_grad=True) tensor([[-0.8218]], requires_grad=True)\n",
      "tensor([[-1.2054]], grad_fn=<AddBackward0>)\n"
     ]
    }
   ],
   "source": [
    "# What is grad_fn above? discuss pytorch autograd engine\n",
    "x = torch.randn(1,1, requires_grad=True)\n",
    "w = torch.randn(1,1, requires_grad=True)\n",
    "b = torch.randn(1,1, requires_grad=True)\n",
    "f = w * x\n",
    "y = f + b\n",
    "\n",
    "print(x, w, b)\n",
    "print(y)"
   ]
  },
  {
   "cell_type": "code",
   "execution_count": 144,
   "id": "ba5d57c3-d443-46f7-afd2-7691f43719f5",
   "metadata": {},
   "outputs": [
    {
     "name": "stdout",
     "output_type": "stream",
     "text": [
      "None\n"
     ]
    }
   ],
   "source": [
    "print(w.grad)"
   ]
  },
  {
   "cell_type": "markdown",
   "id": "91699ca4-a0f0-4e2b-bf02-877846bb39ec",
   "metadata": {},
   "source": [
    "To calculate the gradients, you need to run the `.backward` method on a Variable, `y` for example. This will calculate the gradient for `y` with respect to `w` and `b`\n",
    "\n",
    "$$\n",
    "\\frac{\\partial y}{\\partial w} = \\frac{\\partial y}{\\partial f}\\frac{\\partial f}{\\partial w} = x\n",
    "$$"
   ]
  },
  {
   "cell_type": "code",
   "execution_count": 145,
   "id": "9f7854b1-7fed-4589-b5e2-629527f49129",
   "metadata": {},
   "outputs": [
    {
     "data": {
      "text/plain": [
       "tensor([[-0.3537]])"
      ]
     },
     "execution_count": 145,
     "metadata": {},
     "output_type": "execute_result"
    }
   ],
   "source": [
    "y.backward()\n",
    "w.grad"
   ]
  },
  {
   "cell_type": "code",
   "execution_count": null,
   "id": "547255ef-64bb-40a6-8f9b-ff1b708e6e73",
   "metadata": {},
   "outputs": [],
   "source": [
    "# discuss optimizer module that updates the weights"
   ]
  },
  {
   "cell_type": "code",
   "execution_count": 153,
   "id": "7e072d57-e87d-4119-9d44-764f5b5933a3",
   "metadata": {},
   "outputs": [
    {
     "name": "stdout",
     "output_type": "stream",
     "text": [
      "tensor([[1.0843]], requires_grad=True)\n",
      "tensor([[1.1196]], requires_grad=True)\n"
     ]
    }
   ],
   "source": [
    "from torch import optim\n",
    "optimizer = optim.SGD([w], lr=0.1)\n",
    "print(w)\n",
    "optimizer.step()\n",
    "print(w)"
   ]
  },
  {
   "cell_type": "code",
   "execution_count": 251,
   "id": "48b4b394-bdef-4e14-8a25-216c78214a33",
   "metadata": {},
   "outputs": [
    {
     "name": "stdout",
     "output_type": "stream",
     "text": [
      "Training loss at 0: 2.254305442004824\n",
      "Training loss at 1: 1.973656257967959\n",
      "Training loss at 2: 1.2662030195376512\n",
      "Training loss at 3: 0.7911116558351496\n",
      "Training loss at 4: 0.5994854113186346\n",
      "Training loss at 5: 0.506053429549691\n",
      "Training loss at 6: 0.4518747577852786\n",
      "Training loss at 7: 0.415921337759571\n",
      "Training loss at 8: 0.39037871522817025\n",
      "Training loss at 9: 0.3713403098634692\n",
      "Training loss at 10: 0.3562971933452941\n",
      "Training loss at 11: 0.34383535093621914\n",
      "Training loss at 12: 0.333301189039816\n",
      "Training loss at 13: 0.32368000323520796\n",
      "Training loss at 14: 0.315477940073209\n",
      "Training loss at 15: 0.3077334293773942\n",
      "Training loss at 16: 0.3006664781825248\n",
      "Training loss at 17: 0.29411312137077106\n",
      "Training loss at 18: 0.2877053090933162\n",
      "Training loss at 19: 0.281917381841046\n"
     ]
    }
   ],
   "source": [
    "#putting it all together\n",
    "from torch import optim\n",
    "\n",
    "class Network(nn.Module):\n",
    "    def __init__(self):\n",
    "        super().__init__()\n",
    "        # Defining the layers, 128, 64, 10 units each\n",
    "        self.fc1 = nn.Linear(784, 128)\n",
    "        self.fc2 = nn.Linear(128, 64)\n",
    "        # Output layer, 10 units - one for each digit\n",
    "        self.fc3 = nn.Linear(64, 10)\n",
    "        \n",
    "    def forward(self, x):\n",
    "        ''' Forward pass through the network, returns the output logits '''\n",
    "        \n",
    "        x = self.fc1(x)\n",
    "        x = F.relu(x)\n",
    "        x = self.fc2(x)\n",
    "        x = F.relu(x)\n",
    "        x = self.fc3(x)\n",
    "        x = F.log_softmax(x, dim=1)\n",
    "        \n",
    "        return x\n",
    "\n",
    "model = Network()\n",
    "\n",
    "criterion = lambda x, y: torch.mean(-x[range(len(y)), y])\n",
    "#criterion = nn.NLLLoss()\n",
    "optimizer = optim.SGD(model.parameters(), lr=0.003)\n",
    "\n",
    "epochs = 20\n",
    "for e in range(epochs):\n",
    "    running_loss = 0\n",
    "    for images, labels in trainloader:\n",
    "        # Flatten MNIST images into a 784 long vector\n",
    "        images = images.view(images.shape[0], -1)\n",
    "    \n",
    "        # TODO: Training pass\n",
    "        optimizer.zero_grad()\n",
    "        \n",
    "        output = model(images)\n",
    "        loss = criterion(output, labels)\n",
    "        loss.backward()\n",
    "        optimizer.step()\n",
    "        \n",
    "        running_loss += loss.item()\n",
    "    else:\n",
    "        print(f\"Training loss at {e}: {running_loss/len(trainloader)}\")"
   ]
  },
  {
   "cell_type": "code",
   "execution_count": 255,
   "id": "feea2b19-7a61-4505-8a90-01979ca6b306",
   "metadata": {},
   "outputs": [
    {
     "data": {
      "image/png": "[encoded data removed]",
      "text/plain": [
       "<Figure size 600x900 with 2 Axes>"
      ]
     },
     "metadata": {
      "image/png": {
       "height": 327,
       "width": 589
      }
     },
     "output_type": "display_data"
    }
   ],
   "source": [
    "%matplotlib inline\n",
    "\n",
    "images, labels = next(iter(trainloader))\n",
    "\n",
    "img = images[0].view(1, 784)\n",
    "# Turn off gradients to speed up this part\n",
    "with torch.no_grad():\n",
    "    logps = model(img)\n",
    "\n",
    "# Output of the network are log-probabilities, need to take exponential for probabilities\n",
    "ps = torch.exp(logps)\n",
    "view_classify(img.view(1, 28, 28), ps)"
   ]
  },
  {
   "cell_type": "code",
   "execution_count": 252,
   "id": "8d172b7d-3fd5-4001-8136-1c160c2f60c7",
   "metadata": {},
   "outputs": [],
   "source": [
    "# But we don't test on already seen data\n",
    "testSet = datasets.MNIST('~/.pytorch/MNIST_data/', download=True, train=False, transform=transform)\n",
    "testLoader = torch.utils.data.DataLoader(testSet, batch_size=64, shuffle=True)"
   ]
  },
  {
   "cell_type": "code",
   "execution_count": 254,
   "id": "1e5bb01e-3f8b-442e-a91a-31218aa1713c",
   "metadata": {},
   "outputs": [
    {
     "data": {
      "image/png": "[encoded data removed]",
      "text/plain": [
       "<Figure size 600x900 with 2 Axes>"
      ]
     },
     "metadata": {
      "image/png": {
       "height": 327,
       "width": 589
      }
     },
     "output_type": "display_data"
    }
   ],
   "source": [
    "%matplotlib inline\n",
    "\n",
    "images, labels = next(iter(testLoader))\n",
    "\n",
    "img = images[0].view(1, 784)\n",
    "# Turn off gradients to speed up this part\n",
    "with torch.no_grad():\n",
    "    logps = model(img)\n",
    "\n",
    "# Output of the network are log-probabilities, need to take exponential for probabilities\n",
    "ps = torch.exp(logps)\n",
    "view_classify(img.view(1, 28, 28), ps)"
   ]
  },
  {
   "cell_type": "code",
   "execution_count": 221,
   "id": "1fb8da91-e3b6-433e-baa5-def9778acb69",
   "metadata": {},
   "outputs": [
    {
     "name": "stdout",
     "output_type": "stream",
     "text": [
      "Training loss: 2.2542896120787175\n",
      "Epoch: 1/30..  Training Loss: 2.254..  Test Loss: 2.176..  Test Accuracy: 0.498\n",
      "Training loss: 1.9858575944961516\n",
      "Epoch: 2/30..  Training Loss: 1.986..  Test Loss: 1.700..  Test Accuracy: 0.593\n",
      "Training loss: 1.3427155591023248\n",
      "Epoch: 3/30..  Training Loss: 1.343..  Test Loss: 0.991..  Test Accuracy: 0.773\n",
      "Training loss: 0.8216091980303782\n",
      "Epoch: 4/30..  Training Loss: 0.822..  Test Loss: 0.665..  Test Accuracy: 0.833\n",
      "Training loss: 0.613010131696394\n",
      "Epoch: 5/30..  Training Loss: 0.613..  Test Loss: 0.536..  Test Accuracy: 0.857\n",
      "Training loss: 0.5180654498115023\n",
      "Epoch: 6/30..  Training Loss: 0.518..  Test Loss: 0.467..  Test Accuracy: 0.873\n",
      "Training loss: 0.46318678958202475\n",
      "Epoch: 7/30..  Training Loss: 0.463..  Test Loss: 0.426..  Test Accuracy: 0.882\n",
      "Training loss: 0.4267877283603398\n",
      "Epoch: 8/30..  Training Loss: 0.427..  Test Loss: 0.395..  Test Accuracy: 0.888\n",
      "Training loss: 0.40035184812761826\n",
      "Epoch: 9/30..  Training Loss: 0.400..  Test Loss: 0.371..  Test Accuracy: 0.895\n",
      "Training loss: 0.37972996816007315\n",
      "Epoch: 10/30..  Training Loss: 0.380..  Test Loss: 0.356..  Test Accuracy: 0.899\n",
      "Training loss: 0.3632876335430755\n",
      "Epoch: 11/30..  Training Loss: 0.363..  Test Loss: 0.340..  Test Accuracy: 0.904\n",
      "Training loss: 0.3491760991148349\n",
      "Epoch: 12/30..  Training Loss: 0.349..  Test Loss: 0.331..  Test Accuracy: 0.906\n",
      "Training loss: 0.33748474103936765\n",
      "Epoch: 13/30..  Training Loss: 0.337..  Test Loss: 0.318..  Test Accuracy: 0.908\n",
      "Training loss: 0.3276468143502532\n",
      "Epoch: 14/30..  Training Loss: 0.328..  Test Loss: 0.311..  Test Accuracy: 0.913\n",
      "Training loss: 0.31834040132603414\n",
      "Epoch: 15/30..  Training Loss: 0.318..  Test Loss: 0.301..  Test Accuracy: 0.914\n",
      "Training loss: 0.3106231282212968\n",
      "Epoch: 16/30..  Training Loss: 0.311..  Test Loss: 0.296..  Test Accuracy: 0.916\n",
      "Training loss: 0.30308756295806055\n",
      "Epoch: 17/30..  Training Loss: 0.303..  Test Loss: 0.288..  Test Accuracy: 0.917\n",
      "Training loss: 0.2963869276204343\n",
      "Epoch: 18/30..  Training Loss: 0.296..  Test Loss: 0.284..  Test Accuracy: 0.920\n",
      "Training loss: 0.2902647216103351\n",
      "Epoch: 19/30..  Training Loss: 0.290..  Test Loss: 0.277..  Test Accuracy: 0.922\n",
      "Training loss: 0.2844901723282805\n",
      "Epoch: 20/30..  Training Loss: 0.284..  Test Loss: 0.272..  Test Accuracy: 0.923\n",
      "Training loss: 0.2791121014987609\n",
      "Epoch: 21/30..  Training Loss: 0.279..  Test Loss: 0.269..  Test Accuracy: 0.923\n",
      "Training loss: 0.2740691213100068\n",
      "Epoch: 22/30..  Training Loss: 0.274..  Test Loss: 0.262..  Test Accuracy: 0.925\n",
      "Training loss: 0.26921750389055404\n",
      "Epoch: 23/30..  Training Loss: 0.269..  Test Loss: 0.258..  Test Accuracy: 0.928\n",
      "Training loss: 0.26470350266011283\n",
      "Epoch: 24/30..  Training Loss: 0.265..  Test Loss: 0.255..  Test Accuracy: 0.928\n",
      "Training loss: 0.26008901135054735\n",
      "Epoch: 25/30..  Training Loss: 0.260..  Test Loss: 0.251..  Test Accuracy: 0.930\n",
      "Training loss: 0.25570553946279007\n",
      "Epoch: 26/30..  Training Loss: 0.256..  Test Loss: 0.248..  Test Accuracy: 0.930\n",
      "Training loss: 0.251808912054435\n",
      "Epoch: 27/30..  Training Loss: 0.252..  Test Loss: 0.243..  Test Accuracy: 0.932\n",
      "Training loss: 0.24761251539690918\n",
      "Epoch: 28/30..  Training Loss: 0.248..  Test Loss: 0.241..  Test Accuracy: 0.933\n",
      "Training loss: 0.24371975621006\n",
      "Epoch: 29/30..  Training Loss: 0.244..  Test Loss: 0.237..  Test Accuracy: 0.934\n",
      "Training loss: 0.23982312058064856\n",
      "Epoch: 30/30..  Training Loss: 0.240..  Test Loss: 0.234..  Test Accuracy: 0.933\n"
     ]
    }
   ],
   "source": [
    "epochs = 30\n",
    "model = Network()\n",
    "optimizer = optim.SGD(model.parameters(), lr=0.003)\n",
    "\n",
    "train_losses, test_losses = [], []\n",
    "\n",
    "for e in range(epochs):\n",
    "    running_loss = 0\n",
    "    for images, labels in trainloader:\n",
    "        # Flatten MNIST images into a 784 long vector\n",
    "        images = images.view(images.shape[0], -1)\n",
    "    \n",
    "        # TODO: Training pass\n",
    "        optimizer.zero_grad()\n",
    "        \n",
    "        output = model(images)\n",
    "        loss = criterion(output, labels)\n",
    "        loss.backward()\n",
    "        optimizer.step()\n",
    "        \n",
    "        running_loss += loss.item()\n",
    "    else:\n",
    "        print(f\"Training loss: {running_loss/len(trainloader)}\")\n",
    "        tot_test_loss = 0\n",
    "        test_correct = 0  # Number of correct predictions on the test set\n",
    "        \n",
    "        with torch.no_grad():\n",
    "            for images, labels in testLoader:\n",
    "                # Flatten MNIST images into a 784 long vector\n",
    "                images = images.view(images.shape[0], -1)\n",
    "                \n",
    "                output = model(images)\n",
    "                loss = criterion(output, labels)\n",
    "                \n",
    "                tot_test_loss += loss.item()\n",
    "\n",
    "                ps = torch.exp(output)\n",
    "                top_p, top_class = ps.topk(1, dim=1)\n",
    "                equals = top_class == labels.view(*top_class.shape)\n",
    "                test_correct += equals.sum().item()\n",
    "                \n",
    "        # Get mean loss to enable comparison between train and test sets\n",
    "        train_loss = running_loss / len(trainloader)\n",
    "        test_loss = tot_test_loss / len(testLoader)\n",
    "\n",
    "        # At completion of epoch\n",
    "        train_losses.append(train_loss)\n",
    "        test_losses.append(test_loss)\n",
    "\n",
    "        print(\"Epoch: {}/{}.. \".format(e+1, epochs),\n",
    "              \"Training Loss: {:.3f}.. \".format(train_loss),\n",
    "              \"Test Loss: {:.3f}.. \".format(test_loss),\n",
    "              \"Test Accuracy: {:.3f}\".format(test_correct / len(testLoader.dataset)))"
   ]
  },
  {
   "cell_type": "code",
   "execution_count": 222,
   "id": "6ea8304f-9d4a-4909-bfe0-b6ea17f15359",
   "metadata": {},
   "outputs": [
    {
     "data": {
      "text/plain": [
       "<matplotlib.legend.Legend at 0x16b40a7d0>"
      ]
     },
     "execution_count": 222,
     "metadata": {},
     "output_type": "execute_result"
    },
    {
     "data": {
      "image/png": "[encoded data removed]",
      "text/plain": [
       "<Figure size 640x480 with 1 Axes>"
      ]
     },
     "metadata": {
      "image/png": {
       "height": 413,
       "width": 558
      }
     },
     "output_type": "display_data"
    }
   ],
   "source": [
    "plt.plot(train_losses, label='Training loss')\n",
    "plt.plot(test_losses, label='Validation loss')\n",
    "plt.legend(frameon=False)"
   ]
  },
  {
   "cell_type": "code",
   "execution_count": null,
   "id": "544f02b2-9a09-4068-b94f-7119ef45a793",
   "metadata": {},
   "outputs": [],
   "source": []
  },
  {
   "cell_type": "code",
   "execution_count": null,
   "id": "83021c18-58a9-46db-a32d-355dc189bde1",
   "metadata": {},
   "outputs": [],
   "source": []
  },
  {
   "cell_type": "code",
   "execution_count": 236,
   "id": "a36c5b3e-3a07-471c-b3fd-8d08d3f5e22b",
   "metadata": {},
   "outputs": [],
   "source": [
    "# https://github.com/pytorch/pytorch/issues/77799 - show graph for performance on data size on GPU"
   ]
  },
  {
   "cell_type": "code",
   "execution_count": null,
   "id": "90ebb760-4df2-4a50-a4df-e14505482521",
   "metadata": {},
   "outputs": [],
   "source": []
  }
 ],
 "metadata": {
  "kernelspec": {
   "display_name": "Python 3 (ipykernel)",
   "language": "python",
   "name": "python3"
  },
  "language_info": {
   "codemirror_mode": {
    "name": "ipython",
    "version": 3
   },
   "file_extension": ".py",
   "mimetype": "text/x-python",
   "name": "python",
   "nbconvert_exporter": "python",
   "pygments_lexer": "ipython3",
   "version": "3.10.4"
  }
 },
 "nbformat": 4,
 "nbformat_minor": 5
}
